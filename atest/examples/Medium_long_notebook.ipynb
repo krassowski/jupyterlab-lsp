{
 "cells": [
  {
   "cell_type": "markdown",
   "metadata": {},
   "source": [
    "# Medium notebook\n",
    "\n",
    "This notebook is meant to be longer than other notebooks that we use for more isolated integration tests. However, it is not too long either as ti allow testing on the very slow CI.\n",
    "\n",
    "It is meant to look out of performance regressions in real life notebook, though not in *long* notebooks.\n",
    "\n",
    "The notebook with 50 cells of code should be just ok to ensure that we do not have blatant performance regressions.\n",
    "\n",
    "We define notebooks by number of code cells:\n",
    " - very short: <10,\n",
    " - short: 10-50,\n",
    " - medium: 50-100,\n",
    " - long: 100-500,\n",
    " - very long: >500\n",
    "\n",
    "If you have better data on distribution of notebook lengths and typical use, let us know by opening an issue!"
   ]
  },
  {
   "cell_type": "markdown",
   "metadata": {},
   "source": [
    "## Some dummy code"
   ]
  },
  {
   "cell_type": "code",
   "execution_count": null,
   "metadata": {},
   "outputs": [],
   "source": [
    "from statistics import mean, median, mode, stdev, variance"
   ]
  },
  {
   "cell_type": "code",
   "execution_count": null,
   "metadata": {},
   "outputs": [],
   "source": [
    "# data - this is longish on purpose\n",
    "\n",
    "data = [\n",
    "    0, 1, 2, 3, 4, 5, 6, 7, 8, 9,\n",
    "    10, 11, 12, 13, 14, 15, 16, 17, 18, 19,\n",
    "    20, 21, 22, 23, 24, 25, 26, 27, 28, 29,\n",
    "    30, 31, 32, 33, 34, 35, 36, 37, 38, 39,\n",
    "    40, 41, 42, 43, 44, 45, 46, 47, 48, 49,\n",
    "    50, 51, 52, 53, 54, 55, 56, 57, 58, 59,\n",
    "    60, 61, 62, 63, 64, 65, 66, 67, 68, 69,\n",
    "    70, 71, 72, 73, 74, 75, 76, 77, 78, 79,\n",
    "    80, 81, 82, 83, 84, 85, 86, 87, 88, 89,\n",
    "    90, 91, 92, 93, 94, 95, 96, 97, 98, 99,\n",
    "    0, 1, 2, 3, 4, 5, 6, 7, 8, 9,\n",
    "    3\n",
    "]"
   ]
  },
  {
   "cell_type": "code",
   "execution_count": null,
   "metadata": {},
   "outputs": [],
   "source": [
    "# mean\n",
    "mean(data)"
   ]
  },
  {
   "cell_type": "code",
   "execution_count": null,
   "metadata": {},
   "outputs": [],
   "source": [
    "# mode\n",
    "\n",
    "mode(data)"
   ]
  },
  {
   "cell_type": "code",
   "execution_count": null,
   "metadata": {},
   "outputs": [],
   "source": [
    "# median\n",
    "\n",
    "\n",
    "median(data)"
   ]
  },
  {
   "cell_type": "code",
   "execution_count": null,
   "metadata": {},
   "outputs": [],
   "source": [
    "# together\n",
    "mean(data), mode(data), median(data)"
   ]
  },
  {
   "cell_type": "code",
   "execution_count": null,
   "metadata": {},
   "outputs": [],
   "source": [
    "# standard deviation\n",
    "stdev(data)"
   ]
  },
  {
   "cell_type": "code",
   "execution_count": null,
   "metadata": {},
   "outputs": [],
   "source": [
    "# variance\n",
    "variance(data)"
   ]
  },
  {
   "cell_type": "code",
   "execution_count": null,
   "metadata": {},
   "outputs": [],
   "source": [
    "# together\n",
    "\n",
    "stdev(data), variance(data)"
   ]
  },
  {
   "cell_type": "code",
   "execution_count": null,
   "metadata": {},
   "outputs": [],
   "source": [
    "# everything together\n",
    "\n",
    "mean(data), mode(data), median(data), stdev(data), variance(data)"
   ]
  },
  {
   "cell_type": "code",
   "execution_count": null,
   "metadata": {},
   "outputs": [],
   "source": [
    "# some boring function\n",
    "\n",
    "def stats_dict(data, stats=[mean, mode, median, stdev, variance]):\n",
    "    return {\n",
    "        stat.__name__: stat(data)\n",
    "        for stat in stats\n",
    "    }\n",
    "\n",
    "\n",
    "stats_dict(data)"
   ]
  },
  {
   "cell_type": "markdown",
   "metadata": {},
   "source": [
    "## Same dummy code again"
   ]
  },
  {
   "cell_type": "code",
   "execution_count": null,
   "metadata": {},
   "outputs": [],
   "source": [
    "# data - this is longish on purpose\n",
    "\n",
    "data = [\n",
    "    0, 1, 2, 3, 4, 5, 6, 7, 8, 9,\n",
    "    10, 11, 12, 13, 14, 15, 16, 17, 18, 19,\n",
    "    20, 21, 22, 23, 24, 25, 26, 27, 28, 29,\n",
    "    30, 31, 32, 33, 34, 35, 36, 37, 38, 39,\n",
    "    40, 41, 42, 43, 44, 45, 46, 47, 48, 49,\n",
    "    50, 51, 52, 53, 54, 55, 56, 57, 58, 59,\n",
    "    60, 61, 62, 63, 64, 65, 66, 67, 68, 69,\n",
    "    70, 71, 72, 73, 74, 75, 76, 77, 78, 79,\n",
    "    80, 81, 82, 83, 84, 85, 86, 87, 88, 89,\n",
    "    90, 91, 92, 93, 94, 95, 96, 97, 98, 99,\n",
    "    0, 1, 2, 3, 4, 5, 6, 7, 8, 9,\n",
    "    3\n",
    "]"
   ]
  },
  {
   "cell_type": "code",
   "execution_count": null,
   "metadata": {},
   "outputs": [],
   "source": [
    "# mean\n",
    "mean(data)"
   ]
  },
  {
   "cell_type": "code",
   "execution_count": null,
   "metadata": {},
   "outputs": [],
   "source": [
    "# mode\n",
    "\n",
    "mode(data)"
   ]
  },
  {
   "cell_type": "code",
   "execution_count": null,
   "metadata": {},
   "outputs": [],
   "source": [
    "# median\n",
    "\n",
    "\n",
    "median(data)"
   ]
  },
  {
   "cell_type": "code",
   "execution_count": null,
   "metadata": {},
   "outputs": [],
   "source": [
    "# together\n",
    "mean(data), mode(data), median(data)"
   ]
  },
  {
   "cell_type": "code",
   "execution_count": null,
   "metadata": {},
   "outputs": [],
   "source": [
    "# standard deviation\n",
    "stdev(data)"
   ]
  },
  {
   "cell_type": "code",
   "execution_count": null,
   "metadata": {},
   "outputs": [],
   "source": [
    "# variance\n",
    "variance(data)"
   ]
  },
  {
   "cell_type": "code",
   "execution_count": null,
   "metadata": {},
   "outputs": [],
   "source": [
    "# together\n",
    "\n",
    "stdev(data), variance(data)"
   ]
  },
  {
   "cell_type": "code",
   "execution_count": null,
   "metadata": {},
   "outputs": [],
   "source": [
    "# everything together\n",
    "\n",
    "mean(data), mode(data), median(data), stdev(data), variance(data)"
   ]
  },
  {
   "cell_type": "code",
   "execution_count": null,
   "metadata": {},
   "outputs": [],
   "source": [
    "# some boring function\n",
    "\n",
    "def stats_dict(data, stats=[mean, mode, median, stdev, variance]):\n",
    "    return {\n",
    "        stat.__name__: stat(data)\n",
    "        for stat in stats\n",
    "    }\n",
    "\n",
    "\n",
    "stats_dict(data)"
   ]
  },
  {
   "cell_type": "markdown",
   "metadata": {},
   "source": [
    "### And again"
   ]
  },
  {
   "cell_type": "code",
   "execution_count": null,
   "metadata": {},
   "outputs": [],
   "source": [
    "# data - this is longish on purpose\n",
    "\n",
    "data = [\n",
    "    0, 1, 2, 3, 4, 5, 6, 7, 8, 9,\n",
    "    10, 11, 12, 13, 14, 15, 16, 17, 18, 19,\n",
    "    20, 21, 22, 23, 24, 25, 26, 27, 28, 29,\n",
    "    30, 31, 32, 33, 34, 35, 36, 37, 38, 39,\n",
    "    40, 41, 42, 43, 44, 45, 46, 47, 48, 49,\n",
    "    50, 51, 52, 53, 54, 55, 56, 57, 58, 59,\n",
    "    60, 61, 62, 63, 64, 65, 66, 67, 68, 69,\n",
    "    70, 71, 72, 73, 74, 75, 76, 77, 78, 79,\n",
    "    80, 81, 82, 83, 84, 85, 86, 87, 88, 89,\n",
    "    90, 91, 92, 93, 94, 95, 96, 97, 98, 99,\n",
    "    0, 1, 2, 3, 4, 5, 6, 7, 8, 9,\n",
    "    3\n",
    "]"
   ]
  },
  {
   "cell_type": "code",
   "execution_count": null,
   "metadata": {},
   "outputs": [],
   "source": [
    "# mean\n",
    "mean(data)"
   ]
  },
  {
   "cell_type": "code",
   "execution_count": null,
   "metadata": {},
   "outputs": [],
   "source": [
    "# mode\n",
    "\n",
    "mode(data)"
   ]
  },
  {
   "cell_type": "code",
   "execution_count": null,
   "metadata": {},
   "outputs": [],
   "source": [
    "# median\n",
    "\n",
    "\n",
    "median(data)"
   ]
  },
  {
   "cell_type": "code",
   "execution_count": null,
   "metadata": {},
   "outputs": [],
   "source": [
    "# together\n",
    "mean(data), mode(data), median(data)"
   ]
  },
  {
   "cell_type": "code",
   "execution_count": null,
   "metadata": {},
   "outputs": [],
   "source": [
    "# standard deviation\n",
    "stdev(data)"
   ]
  },
  {
   "cell_type": "code",
   "execution_count": null,
   "metadata": {},
   "outputs": [],
   "source": [
    "# variance\n",
    "variance(data)"
   ]
  },
  {
   "cell_type": "code",
   "execution_count": null,
   "metadata": {},
   "outputs": [],
   "source": [
    "# together\n",
    "\n",
    "stdev(data), variance(data)"
   ]
  },
  {
   "cell_type": "code",
   "execution_count": null,
   "metadata": {},
   "outputs": [],
   "source": [
    "# everything together\n",
    "\n",
    "mean(data), mode(data), median(data), stdev(data), variance(data)"
   ]
  },
  {
   "cell_type": "code",
   "execution_count": null,
   "metadata": {},
   "outputs": [],
   "source": [
    "# some boring function\n",
    "\n",
    "def stats_dict(data, stats=[mean, mode, median, stdev, variance]):\n",
    "    return {\n",
    "        stat.__name__: stat(data)\n",
    "        for stat in stats\n",
    "    }\n",
    "\n",
    "\n",
    "stats_dict(data)"
   ]
  },
  {
   "cell_type": "markdown",
   "metadata": {},
   "source": [
    "### And once more"
   ]
  },
  {
   "cell_type": "code",
   "execution_count": null,
   "metadata": {},
   "outputs": [],
   "source": [
    "# data - this is longish on purpose\n",
    "\n",
    "data = [\n",
    "    0, 1, 2, 3, 4, 5, 6, 7, 8, 9,\n",
    "    10, 11, 12, 13, 14, 15, 16, 17, 18, 19,\n",
    "    20, 21, 22, 23, 24, 25, 26, 27, 28, 29,\n",
    "    30, 31, 32, 33, 34, 35, 36, 37, 38, 39,\n",
    "    40, 41, 42, 43, 44, 45, 46, 47, 48, 49,\n",
    "    50, 51, 52, 53, 54, 55, 56, 57, 58, 59,\n",
    "    60, 61, 62, 63, 64, 65, 66, 67, 68, 69,\n",
    "    70, 71, 72, 73, 74, 75, 76, 77, 78, 79,\n",
    "    80, 81, 82, 83, 84, 85, 86, 87, 88, 89,\n",
    "    90, 91, 92, 93, 94, 95, 96, 97, 98, 99,\n",
    "    0, 1, 2, 3, 4, 5, 6, 7, 8, 9,\n",
    "    3\n",
    "]"
   ]
  },
  {
   "cell_type": "code",
   "execution_count": null,
   "metadata": {},
   "outputs": [],
   "source": [
    "# mean\n",
    "mean(data)"
   ]
  },
  {
   "cell_type": "code",
   "execution_count": null,
   "metadata": {},
   "outputs": [],
   "source": [
    "# mode\n",
    "\n",
    "mode(data)"
   ]
  },
  {
   "cell_type": "code",
   "execution_count": null,
   "metadata": {},
   "outputs": [],
   "source": [
    "# median\n",
    "\n",
    "\n",
    "median(data)"
   ]
  },
  {
   "cell_type": "code",
   "execution_count": null,
   "metadata": {},
   "outputs": [],
   "source": [
    "# together\n",
    "mean(data), mode(data), median(data)"
   ]
  },
  {
   "cell_type": "code",
   "execution_count": null,
   "metadata": {},
   "outputs": [],
   "source": [
    "# standard deviation\n",
    "stdev(data)"
   ]
  },
  {
   "cell_type": "code",
   "execution_count": null,
   "metadata": {},
   "outputs": [],
   "source": [
    "# variance\n",
    "variance(data)"
   ]
  },
  {
   "cell_type": "code",
   "execution_count": null,
   "metadata": {},
   "outputs": [],
   "source": [
    "# together\n",
    "\n",
    "stdev(data), variance(data)"
   ]
  },
  {
   "cell_type": "code",
   "execution_count": null,
   "metadata": {},
   "outputs": [],
   "source": [
    "# everything together\n",
    "\n",
    "mean(data), mode(data), median(data), stdev(data), variance(data)"
   ]
  },
  {
   "cell_type": "code",
   "execution_count": null,
   "metadata": {},
   "outputs": [],
   "source": [
    "# some boring function\n",
    "\n",
    "def stats_dict(data, stats=[mean, mode, median, stdev, variance]):\n",
    "    return {\n",
    "        stat.__name__: stat(data)\n",
    "        for stat in stats\n",
    "    }\n",
    "\n",
    "\n",
    "stats_dict(data)"
   ]
  },
  {
   "cell_type": "markdown",
   "metadata": {},
   "source": [
    "### Some code for the actual tests"
   ]
  },
  {
   "cell_type": "code",
   "execution_count": null,
   "metadata": {},
   "outputs": [],
   "source": [
    "add = ''\n",
    "\n",
    "\n",
    "def add_together(a: int, b: int):\n",
    "    \"\"\"Test adding\"\"\"\n",
    "    return a + b\n",
    "\n",
    "\n"
   ]
  },
  {
   "cell_type": "markdown",
   "metadata": {},
   "source": [
    "### Some more dummy code, just to have something after the test"
   ]
  },
  {
   "cell_type": "code",
   "execution_count": null,
   "metadata": {},
   "outputs": [],
   "source": [
    "# data - this is longish on purpose\n",
    "\n",
    "data = [\n",
    "    0, 1, 2, 3, 4, 5, 6, 7, 8, 9,\n",
    "    10, 11, 12, 13, 14, 15, 16, 17, 18, 19,\n",
    "    20, 21, 22, 23, 24, 25, 26, 27, 28, 29,\n",
    "    30, 31, 32, 33, 34, 35, 36, 37, 38, 39,\n",
    "    40, 41, 42, 43, 44, 45, 46, 47, 48, 49,\n",
    "    50, 51, 52, 53, 54, 55, 56, 57, 58, 59,\n",
    "    60, 61, 62, 63, 64, 65, 66, 67, 68, 69,\n",
    "    70, 71, 72, 73, 74, 75, 76, 77, 78, 79,\n",
    "    80, 81, 82, 83, 84, 85, 86, 87, 88, 89,\n",
    "    90, 91, 92, 93, 94, 95, 96, 97, 98, 99,\n",
    "    0, 1, 2, 3, 4, 5, 6, 7, 8, 9,\n",
    "    3\n",
    "]"
   ]
  },
  {
   "cell_type": "code",
   "execution_count": null,
   "metadata": {},
   "outputs": [],
   "source": [
    "# mean\n",
    "mean(data)"
   ]
  },
  {
   "cell_type": "code",
   "execution_count": null,
   "metadata": {},
   "outputs": [],
   "source": [
    "# mode\n",
    "\n",
    "mode(data)"
   ]
  },
  {
   "cell_type": "code",
   "execution_count": null,
   "metadata": {},
   "outputs": [],
   "source": [
    "# median\n",
    "\n",
    "\n",
    "median(data)"
   ]
  },
  {
   "cell_type": "code",
   "execution_count": null,
   "metadata": {},
   "outputs": [],
   "source": [
    "# together\n",
    "mean(data), mode(data), median(data)"
   ]
  },
  {
   "cell_type": "code",
   "execution_count": null,
   "metadata": {},
   "outputs": [],
   "source": [
    "# standard deviation\n",
    "stdev(data)"
   ]
  },
  {
   "cell_type": "code",
   "execution_count": null,
   "metadata": {},
   "outputs": [],
   "source": [
    "# variance\n",
    "variance(data)"
   ]
  },
  {
   "cell_type": "code",
   "execution_count": null,
   "metadata": {},
   "outputs": [],
   "source": [
    "# together\n",
    "\n",
    "stdev(data), variance(data)"
   ]
  },
  {
   "cell_type": "code",
   "execution_count": null,
   "metadata": {},
   "outputs": [],
   "source": [
    "# everything together\n",
    "\n",
    "mean(data), mode(data), median(data), stdev(data), variance(data)"
   ]
  },
  {
   "cell_type": "code",
   "execution_count": null,
   "metadata": {},
   "outputs": [],
   "source": [
    "# some boring function\n",
    "\n",
    "def stats_dict(data, stats=[mean, mode, median, stdev, variance]):\n",
    "    return {\n",
    "        stat.__name__: stat(data)\n",
    "        for stat in stats\n",
    "    }\n",
    "\n",
    "\n",
    "stats_dict(data)"
   ]
  },
  {
   "cell_type": "markdown",
   "metadata": {},
   "source": [
    "### Even more dummy code"
   ]
  },
  {
   "cell_type": "code",
   "execution_count": null,
   "metadata": {},
   "outputs": [],
   "source": [
    "# data - this is longish on purpose\n",
    "\n",
    "data = [\n",
    "    0, 1, 2, 3, 4, 5, 6, 7, 8, 9,\n",
    "    10, 11, 12, 13, 14, 15, 16, 17, 18, 19,\n",
    "    20, 21, 22, 23, 24, 25, 26, 27, 28, 29,\n",
    "    30, 31, 32, 33, 34, 35, 36, 37, 38, 39,\n",
    "    40, 41, 42, 43, 44, 45, 46, 47, 48, 49,\n",
    "    50, 51, 52, 53, 54, 55, 56, 57, 58, 59,\n",
    "    60, 61, 62, 63, 64, 65, 66, 67, 68, 69,\n",
    "    70, 71, 72, 73, 74, 75, 76, 77, 78, 79,\n",
    "    80, 81, 82, 83, 84, 85, 86, 87, 88, 89,\n",
    "    90, 91, 92, 93, 94, 95, 96, 97, 98, 99,\n",
    "    0, 1, 2, 3, 4, 5, 6, 7, 8, 9,\n",
    "    3\n",
    "]"
   ]
  },
  {
   "cell_type": "code",
   "execution_count": null,
   "metadata": {},
   "outputs": [],
   "source": [
    "# mean\n",
    "mean(data)"
   ]
  },
  {
   "cell_type": "code",
   "execution_count": null,
   "metadata": {},
   "outputs": [],
   "source": [
    "# mode\n",
    "\n",
    "mode(data)"
   ]
  },
  {
   "cell_type": "code",
   "execution_count": null,
   "metadata": {},
   "outputs": [],
   "source": [
    "# median\n",
    "\n",
    "\n",
    "median(data)"
   ]
  },
  {
   "cell_type": "code",
   "execution_count": null,
   "metadata": {},
   "outputs": [],
   "source": [
    "# together\n",
    "mean(data), mode(data), median(data)"
   ]
  },
  {
   "cell_type": "code",
   "execution_count": null,
   "metadata": {},
   "outputs": [],
   "source": [
    "# standard deviation\n",
    "stdev(data)"
   ]
  },
  {
   "cell_type": "code",
   "execution_count": null,
   "metadata": {},
   "outputs": [],
   "source": [
    "# variance\n",
    "variance(data)"
   ]
  },
  {
   "cell_type": "code",
   "execution_count": null,
   "metadata": {},
   "outputs": [],
   "source": [
    "# together\n",
    "\n",
    "stdev(data), variance(data)"
   ]
  },
  {
   "cell_type": "code",
   "execution_count": null,
   "metadata": {},
   "outputs": [],
   "source": [
    "# everything together\n",
    "\n",
    "mean(data), mode(data), median(data), stdev(data), variance(data)"
   ]
  },
  {
   "cell_type": "code",
   "execution_count": null,
   "metadata": {},
   "outputs": [],
   "source": [
    "# some boring function\n",
    "\n",
    "def stats_dict(data, stats=[mean, mode, median, stdev, variance]):\n",
    "    return {\n",
    "        stat.__name__: stat(data)\n",
    "        for stat in stats\n",
    "    }\n",
    "\n",
    "\n",
    "stats_dict(data)"
   ]
  }
 ],
 "metadata": {
  "kernelspec": {
   "display_name": "Python 3",
   "language": "python",
   "name": "python3"
  },
  "language_info": {
   "codemirror_mode": {
    "name": "ipython",
    "version": 3
   },
   "file_extension": ".py",
   "mimetype": "text/x-python",
   "name": "python",
   "nbconvert_exporter": "python",
   "pygments_lexer": "ipython3",
   "version": "3.7.5"
  }
 },
 "nbformat": 4,
 "nbformat_minor": 4
}
